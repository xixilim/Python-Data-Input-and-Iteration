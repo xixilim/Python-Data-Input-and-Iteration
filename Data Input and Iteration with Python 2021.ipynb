{
 "cells": [
  {
   "cell_type": "markdown",
   "metadata": {},
   "source": [
    "# Goals of this Notebook\n",
    "\n",
    "- Review acquisition of data from text files with Python\n",
    "- Learn to structure data in Python variables that facilitate various analyses\n",
    "- Gain experience with <font face='courier'>for</font> loops\n",
    "- Gain insight into multidimensional data structures\n",
    "- Gain expertise in structuring data within multidimensional data structures\n",
    "- Introduce you to terms used in industry, such as _customer retention_ and _networks_\n",
    "- Introduce you to topics in future MSBA courses\n",
    "  - Reshaping multidimensional arrays (AI - neural networks)\n",
    "  - Markov models, stochastic models\n",
    "  - Time series analysis\n",
    "\n",
    "Business analytics professionals must know how to access data programmatically, clean it, and structure it to suit the requirements of the intended methodology.  Some methologies might require data in lists while other methodologies might require dictionaries.  This session helps develop this skill using basic Python commands.\n",
    "\n",
    "Multidimensional data is often referred to as n-dimensional data and tensors.  Some examples are shown below.  While vectors and matrices are technically tensors, the name tensor is frequently reserved for data structures of three or more dimensions.  You must be able to iterate through these data structures to simply retrieve the elements or to use the element values in mathematical operations.\n",
    "\n",
    "![Tensor Examples](images/tensor-examples.jpg)\n",
    "\n",
    "(Image retrieved from [KDNuggets](https://www.kdnuggets.com/2018/05/pytorch-tensor-basics.html) on 7/30/2020)\n",
    "\n",
    "Acquiring and structuring data within Python variables requires loops, and so this material relies heavily on loops.\n",
    "\n",
    "Later, you will often use the <font face='courier'>numpy</font> and <font face='courier'>pandas</font> packages to ease data acquisition and structuring.  These packages, however, hide the details from you which are very important to know.  for example, numpy and pandas does the operations we will demonstrate _under the covers_ and you will not be able to troubleshoot problems with those packages unless you understand the basics.  It is important, therefore, to practice these computations with loop statements that we explicitly write which gives you the essential insight into what the more advanced programming statements are doing.  \n",
    "\n",
    "Whenever lists or dictionaries are created with <font face='courier'>for</font> loops, it is natural to think about doing so more succinctly using list comprehension and dictionary comprehension, respectively.  We will cover these alternate methods in this session, therefore, as well.\n",
    "\n",
    "This material also prepares you with the skills and context for success in subsequent courses.\n",
    "\n",
    "\n",
    "# Python Methods in this Notebook\n",
    "\n",
    "- Text file data input with <font face = 'courier new'>open()</font> statement\n",
    "- <font face = 'courier'>for</font> loops\n",
    "- List comprehension\n",
    "- Dictionary comprehension\n",
    "\n",
    "# Skills Refresher Navigation <a name='navigation' />\n",
    "- Go to <a href = #loops><font face='courier'>for</font> loops</a>\n",
    "- Go to <a href = #ListComprehension>List Comprehension</a>\n",
    "- Go to <a href = #dictionaries>Dictionaries</a>\n",
    "- Go to <a href = #LoopThroughDict>Looping through dictionaries</a>\n",
    "- Go to <a href = #DictComp>Dictionary Comprehension</a>\n",
    "- Go to <a href = #aliasing>Aliasing</a>\n"
   ]
  },
  {
   "cell_type": "markdown",
   "metadata": {},
   "source": [
    "# Full Disclosure\n",
    "\n",
    "There exist easier ways to read data file into Python than the ones we will work with using the <font face='courier'>numpy</font> and <font face='courier'>pandas</font> packages, as shown below."
   ]
  },
  {
   "cell_type": "code",
   "execution_count": null,
   "metadata": {},
   "outputs": [],
   "source": [
    "import numpy as np\n",
    "import pandas as pd"
   ]
  },
  {
   "cell_type": "code",
   "execution_count": null,
   "metadata": {},
   "outputs": [],
   "source": [
    "np_nw1999 = np.genfromtxt('NorfolkWeather1999.csv', delimiter = ',')\n",
    "np_nw1999[:5]"
   ]
  },
  {
   "cell_type": "code",
   "execution_count": null,
   "metadata": {},
   "outputs": [],
   "source": [
    "df_nw2018 = pd.read_csv('NorfolkWeather2018.csv', names = ['index', 'temp'], index_col = 'index')\n",
    "df_nw2018[:5]"
   ]
  },
  {
   "cell_type": "markdown",
   "metadata": {},
   "source": [
    "However, doing so avoids learning these critical skills, which are needed in many contexts other than in inputting text files:\n",
    "- Expertise with <font face = 'courier'>for</font> loops\n",
    "- Learning list comprehension\n",
    "- Learning basic Python text cleansing techniques\n",
    "- Becoming intimately familiar with image data in preparation for the Artificial Intelligence course"
   ]
  },
  {
   "cell_type": "markdown",
   "metadata": {},
   "source": [
    "# Handling Data with Basic Python\n",
    "Back to <a href = '#navigation'>Navigation</a>"
   ]
  },
  {
   "cell_type": "markdown",
   "metadata": {},
   "source": [
    "## 1D Data: Times Series Analysis\n",
    "Back to <a href = '#navigation'>Navigation</a>\n",
    "\n",
    "* Data structure\n",
    "  * 1-dimensional array (vector)\n",
    "  * Represented with a Python list\n",
    "  * Possibly with an associated index\n",
    "* Operations\n",
    "  * Reading data from file\n",
    "  * Arranging in a 1D list\n",
    "* Analysis\n",
    "  * Moving average\n",
    "\n",
    "First, time series data are data that are collected over time at constant intervals.  Examples include, daily or hourly weather data, daily sales of an item or all company sales in total (either in units or dollar volume), number of daily visits to a web site, and annual gross domestic product.  You can surely think of other examples.\n",
    "\n",
    "One issue that arises with time series data is to summarize the pattern over time despite there being frequent highs and lows (noise) and highs and lows over longer periods (either economic cycles or seasonal effects).  Computing the moving average is a frequently used method for summarizing the trend that is muddied by the short-term noise.\n",
    "\n",
    "Let our time series data be collected for time indices $d \\in \\left\\lbrace 0, ... , D-1 \\right\\rbrace$, where $d$ stands for the index for a given day. We will be considering daily time series for a year, so $D=365$.  A moving average, $ma_n(d)$ of $n$ days for day $d$ is defined as:\n",
    "\n",
    "$ma_n(d) = \\frac{1}{n} \\Sigma_{i = d-n+1}^d t(i)$\n",
    "\n",
    "where $t(d)$ is the average temperature for day $d$.  Note that $ma(d)$ is defined only for day in this range: $d \\in \\left\\lbrace n-1, \\ldots ,    D-1 \\right\\rbrace$.\n",
    "\n",
    "Click on the image below to see a visualization of how a moving average is computed in a way that may be more clear than the math above.\n",
    "\n",
    "[![Moving Average Animation](https://img.youtube.com/vi/rq__3P_rs4M/0.jpg)](https://www.youtube.com/watch?v=rq__3P_rs4M)\n",
    "\n",
    "The files <font face = 'courier'>NorfolkWeather1999.csv</font> and <font face = 'courier'>NorfolkWeather2018.csv</font>  have the daily average temperatures for the years indicated in the filenames.  Load each of these text files into a list (load only the daily average temperature and not the row index), and then create new lists, <font face = 'courier'>ma1999</font> and <font face = 'courier'>ma2018</font>, that are 10-day moving averages of the original data.\n",
    "\n",
    "Although we are not focusing on plotting in this session, we will compare the two moving average series using the <font face = 'courier'>matplotlib</font> package."
   ]
  },
  {
   "cell_type": "markdown",
   "metadata": {},
   "source": [
    "The first statement in the cell below causes matplotlib graphs to eb rendered within the Jupyter notebook.  (Commands starting with \"%\" are called magic commands.)  The second statement imports <font face = 'courier'>matplotlib</font>."
   ]
  },
  {
   "cell_type": "code",
   "execution_count": null,
   "metadata": {},
   "outputs": [],
   "source": [
    "%matplotlib inline\n",
    "import matplotlib.pyplot as plt "
   ]
  },
  {
   "cell_type": "markdown",
   "metadata": {},
   "source": [
    "Input the 1999 data file first. "
   ]
  },
  {
   "cell_type": "code",
   "execution_count": null,
   "metadata": {},
   "outputs": [],
   "source": [
    "f = open('NorfolkWeather1999.csv','r')\n",
    "nw1999 = f.readlines()\n",
    "f.close()\n",
    "\n",
    "x = []\n",
    "\n",
    "for i in range(len(nw1999)):\n",
    "    nw1999[i] = nw1999[i].strip()\n",
    "    nw1999[i] = nw1999[i].split(',')\n",
    "    x.append(int(nw1999[i][0]))\n",
    "    nw1999[i] = float(nw1999[i][1])\n",
    "#nw1999 = list(map(float,nw1999))\n",
    "\n",
    "plt.plot(x, nw1999, label = '1999')\n",
    "plt.show()"
   ]
  },
  {
   "cell_type": "markdown",
   "metadata": {},
   "source": [
    "Now, input the 2018 data."
   ]
  },
  {
   "cell_type": "code",
   "execution_count": null,
   "metadata": {},
   "outputs": [],
   "source": [
    "f = open('NorfolkWeather2018.csv','r')\n",
    "nw2018 = f.readlines()\n",
    "f.close()\n",
    "\n",
    "for i in range(len(nw2018)):\n",
    "    nw2018[i] = nw2018[i].strip()\n",
    "    nw2018[i] = nw2018[i].split(',')\n",
    "    nw2018[i] = float(nw2018[i][1])\n",
    "#nw2018 = list(map(float,nw2018))\n",
    "\n",
    "\"\"\" Plot both data series \"\"\"\n",
    "plt.plot(nw1999, label = '1999')\n",
    "plt.plot(nw2018, label = '2018')\n",
    "plt.legend()\n",
    "plt.show()"
   ]
  },
  {
   "cell_type": "markdown",
   "metadata": {},
   "source": [
    "The two code blocks could be combined and the repetitive clean-up steps can be put into a function to clean up the code."
   ]
  },
  {
   "cell_type": "code",
   "execution_count": null,
   "metadata": {},
   "outputs": [],
   "source": [
    "def strip_split_convert(x):\n",
    "    for i in range(len(x)):\n",
    "        x[i] = x[i].strip()\n",
    "        x[i] = x[i].split(',')\n",
    "        x[i] = float(x[i][1])\n",
    "    #x = list(map(float,x))\n",
    "    return x\n",
    "    \n",
    "f = open('NorfolkWeather1999.csv','r')\n",
    "nw1999 = f.readlines()\n",
    "f.close()\n",
    "\n",
    "f = open('NorfolkWeather2018.csv','r')\n",
    "nw2018 = f.readlines()\n",
    "f.close()\n",
    "\n",
    "nw1999 = strip_split_convert(nw1999)\n",
    "nw2018 = strip_split_convert(nw2018)\n",
    "plt.plot(nw1999, label = '1999')\n",
    "plt.plot(nw2018, label = '2018')\n",
    "plt.legend()\n",
    "plt.show()"
   ]
  },
  {
   "cell_type": "markdown",
   "metadata": {},
   "source": [
    "Moving averages are used to remove variability from the data so that the overall trend is more apparent.  Let's compute and plot the moving averages of the two data series using <font face = 'courier'>for</font> loops and compare the two results."
   ]
  },
  {
   "cell_type": "code",
   "execution_count": null,
   "metadata": {},
   "outputs": [],
   "source": [
    "''' period: \n",
    "      * a variable representing the number of periods that are averaged together to create\n",
    "        the moving average \n",
    "      * Given the zero-based indexing of Python, the first moving average can be computed\n",
    "        in Period period - 1'''\n",
    "period = 10\n",
    "\n",
    "ma1999 = []  # Initialize moving average list for 1999\n",
    "ma2018 = []  # Initialize moving average list for 2018\n",
    "\n",
    "for i in range(0, len(nw1999) - period + 1):\n",
    "    ma1999.append(sum(nw1999[i:i + period])/period)\n",
    "    ma2018.append(sum(nw2018[i:i + period])/period)\n",
    "\n",
    "plt.plot(ma1999, label = '1999')\n",
    "plt.plot(ma2018, label = '2018')\n",
    "plt.legend()\n",
    "\n",
    "plt.show()"
   ]
  },
  {
   "cell_type": "markdown",
   "metadata": {},
   "source": [
    "Here is a better way to compute the moving average using list comprehension, which we will explain later."
   ]
  },
  {
   "cell_type": "code",
   "execution_count": null,
   "metadata": {},
   "outputs": [],
   "source": [
    "period = 10\n",
    "\n",
    "ma1999 = [sum(nw1999[i:i + period])/period for i in range(0,len(nw1999) - period + 1)]\n",
    "ma2018 = [sum(nw2018[i:i + period])/period for i in range(0,len(nw2018) - period + 1)]\n",
    "\n",
    "plt.plot(ma1999, label = '1999')\n",
    "plt.plot(ma2018, label = '2018')\n",
    "plt.legend()\n",
    "\n",
    "plt.show()"
   ]
  },
  {
   "cell_type": "markdown",
   "metadata": {},
   "source": [
    "## 2D Data"
   ]
  },
  {
   "cell_type": "markdown",
   "metadata": {},
   "source": [
    "For these examples, we will read both the x-axis and y-axis temperature data into the same list, which is a bit more involved than the code above.  While doing so we will show how the code for inputting data can be made more parsimonius and flexible.  \n",
    "\n",
    "In the first, revised function we chain the <font face = 'courier'>strip()</font> and <font face = 'courier'>split()</font> commands and convert the first field to an integer and the second fireld to a float value.  We also use the <font face = 'courier'>with</font> statement to make it uncessary to close the file (because it is closed automatically after execution of the with block)."
   ]
  },
  {
   "cell_type": "code",
   "execution_count": null,
   "metadata": {},
   "outputs": [],
   "source": [
    "def ssc(x):\n",
    "    for i in range(len(x)):\n",
    "        x[i] = x[i].strip().split(',')\n",
    "        x[i][0] = int(x[i][0])\n",
    "        x[i][1] = float(x[i][1])\n",
    "    return x\n",
    "\n",
    "with open('NorfolkWeather1999.csv','r') as f:\n",
    "    nw1999 = f.readlines()\n",
    "nw1999 = ssc(nw1999)\n",
    "nw1999"
   ]
  },
  {
   "cell_type": "markdown",
   "metadata": {},
   "source": [
    "This function is not flexible, however, and we would need to write a new function each time we wanted to convert data in an input file depaending on how many fields were in the data and what types we wanted to convert them to.  The conversion function can be made more flexible by supplying it with a list that indicates the fields to be converted and the types to convert them to."
   ]
  },
  {
   "cell_type": "code",
   "execution_count": null,
   "metadata": {},
   "outputs": [],
   "source": [
    "def ssc1(fields, types, x):\n",
    "    for i in range(len(x)):\n",
    "        x[i] = x[i].strip().split(',')\n",
    "        for j in range(len(fields)):\n",
    "            x[i][fields[j]] = types[j](x[i][fields[j]])\n",
    "    return x\n",
    "\n",
    "with open('NorfolkWeather1999.csv','r') as f:\n",
    "    nw1999 = f.readlines()\n",
    "fields = [0,1]\n",
    "types = [int, float]\n",
    "nw1999 = ssc1(fields, types, nw1999)\n",
    "nw1999"
   ]
  },
  {
   "cell_type": "markdown",
   "metadata": {},
   "source": [
    "The function can be made a bit faster and more succinct with list comprehension."
   ]
  },
  {
   "cell_type": "code",
   "execution_count": null,
   "metadata": {},
   "outputs": [],
   "source": [
    "def ssc2(fields, types, x):\n",
    "    x = [x[i].strip().split(',') for i in range(len(x))]\n",
    "    x = [[types[j](y[fields[j]]) for j in range(len(fields))] for y in x]\n",
    "    return x\n",
    "\n",
    "with open('NorfolkWeather1999.csv','r') as f:\n",
    "    nw1999 = f.readlines()\n",
    "fields = [0,1]\n",
    "types = [int, float]\n",
    "nw1999 = ssc1(fields, types, nw1999)\n",
    "nw1999"
   ]
  },
  {
   "cell_type": "markdown",
   "metadata": {},
   "source": [
    "Or, even better (???)"
   ]
  },
  {
   "cell_type": "code",
   "execution_count": null,
   "metadata": {},
   "outputs": [],
   "source": [
    "def ssc3(fields, types, x):\n",
    "    x = [[types[j](y[fields[j]]) for j in range(len(fields))] for y in [x[i].strip().split(',') for i in range(len(x))]]\n",
    "    return x\n",
    "\n",
    "with open('NorfolkWeather1999.csv','r') as f:\n",
    "    nw1999 = f.readlines()\n",
    "fields = [0,1]\n",
    "types = [int, float]\n",
    "nw1999 = ssc1(fields, types, nw1999)\n",
    "nw1999"
   ]
  },
  {
   "cell_type": "markdown",
   "metadata": {},
   "source": [
    "## 2D Data: Markov Analysis of Customer Retention\n",
    "Back to <a href = '#navigation'>Navigation</a>\n",
    "\n",
    "* Data structure\n",
    "  * 2-dimensional array (matrix)\n",
    "  * Represented with a Python list of lists\n",
    "* Operations\n",
    "  * Reading data from file\n",
    "  * Arranging in a 2D list\n",
    "* Analysis\n",
    "  * Customer forecasts with the  transition matrix\n",
    "\n",
    "Companies believe it is less costly to keep a customer than to acquire a new one.  Companies are, therefore, interested in understanding customers buying patterns, analyzing how long a customer is likely to continue buying from them, and figuring out how to intervene in the customer lifecycle to prolong relationships with customers.\n",
    "\n",
    "One might measure a customer's activity by selling season (if you worked for LL Bean), keeping track of whether a customer made a purchase from each season's catalog.\n",
    "\n",
    "![LL Bean Catalogs](images/catalogs.jpg)\n",
    "\n",
    "We can measure a customer's current level of activity by how many seasons it has been since their last purchase, which is called a customer's _state_ in Markov systems.  So, a customer's state is indicated by an integer from $0$ to $\\infty$, which is the number of seasons since their last purchase.  What is described above is called a _periodic_ system because we observe customers' states at discrete periodic intervals where, here, each period is one season long.\n",
    "\n",
    "Practically, we don't need to consider any states past some number of $n$ seasons, where customers who have not pruchased in $n$ seasons are unlikely to make another purchase from LL Bean again.  We might consider customers who haven't made a purchase in the past $n$, for some appropritely sized $n$, to exhibit behaviors akin to a new customer rather than a current one.\n",
    "\n",
    "We could determine the percentage of times that customers in each of these states made purchases and, conversely the percentage of times they did not: these proportions can be interpreted as the probabilities of, respectively, a customer's state transitioning to $0$ and increasing by one. These probabiltiies are typical represented in a _Transition Matrix_ as shown below.  The notation $p_{x,y}$ represents the probability, or percentage of customers, on average, who transition from State $x$ to State $y$.  Note that it makes sense for all probabilities in each row to sum to $1$ because all customers (100%) in any state must transition to some state.  Call the entirety of this matrix $P$.\n",
    "\n",
    "![Transition Matrix](images/TransitionMatrix.jpg)\n",
    "\n",
    "If $c$ is a column vector with\n",
    "\n",
    "$c^T = [c_0 \\text{   } c_1 \\text{   }  c_2 \\text{   }  c_3  \\text{   }  c_4 \\text{   }  c_5]$\n",
    "\n",
    "where $c_i$ is the number of customers in state $i$ at some point in time, then the number of customers in each state after the next transition step is\n",
    "\n",
    "$c^TP$,\n",
    "\n",
    "or, alternately, as a column vector,\n",
    "\n",
    "$P^Tc$.\n",
    "\n",
    "First, let's read in transition matrix data from a text file (<font face='courier'>transMat.txt</font>) and instantiate a Python data structure representing $P$.  The greatest state in this file  is $n=5$.  Pay attention to ensure that all the elements are converted to numerical quantities."
   ]
  },
  {
   "cell_type": "code",
   "execution_count": null,
   "metadata": {},
   "outputs": [],
   "source": [
    "\"\"\" Read the transition matrix file data into a list of lists with numerical elements \"\"\"\n"
   ]
  },
  {
   "cell_type": "code",
   "execution_count": null,
   "metadata": {},
   "outputs": [],
   "source": [
    "\"\"\" Read the transition matrix file data into a list of lists with numerical elements with list comprehension \"\"\"\n"
   ]
  },
  {
   "cell_type": "markdown",
   "metadata": {
    "collapsed": true
   },
   "source": [
    "#### Compute Next Period Customer Distribution with the Transition Matrix\n",
    "\n",
    "Let's represent our current customer base by a vector with each element representing the number of customers in each state, $s = \\left\\lbrace 0, 1, \\ldots , 5 \\right\\rbrace$. Name a Python variable <font face = 'courier'>custNow</font> to represent the population of customers in each category now and <font face = 'courier'>custNext</font> to represent the expected number of customers in each category next period.  Compute the expected number of customers in each of the states for next season, <font face = 'courier'>custNext</font>."
   ]
  },
  {
   "cell_type": "code",
   "execution_count": null,
   "metadata": {},
   "outputs": [],
   "source": [
    "custNow = [1024, 512, 256, 2048, 5092, 10184]\n",
    "\n",
    "custNext = ???"
   ]
  },
  {
   "cell_type": "markdown",
   "metadata": {},
   "source": [
    "Perform the previous computation with list comprehension."
   ]
  },
  {
   "cell_type": "markdown",
   "metadata": {},
   "source": [
    "## Another Computation with the Transition Matrix\n",
    "\n",
    "The transition matrix for two seasons in the future is the transition matrix multiplied by itself, that is, the dot product of $P$ with itself.  Perform that calculation.\n",
    "\n",
    "![Matrix Multiplication](images/P2.jpg)"
   ]
  },
  {
   "cell_type": "code",
   "execution_count": null,
   "metadata": {},
   "outputs": [],
   "source": []
  },
  {
   "cell_type": "markdown",
   "metadata": {},
   "source": [
    "Perform the computation above with list comprehension."
   ]
  },
  {
   "cell_type": "code",
   "execution_count": null,
   "metadata": {},
   "outputs": [],
   "source": []
  },
  {
   "cell_type": "markdown",
   "metadata": {},
   "source": [
    "## A Final Computation with the Transition Matrix\n",
    "\n",
    "What is the expected customer population by state five years (20 seasons, 100 seasons) from now?"
   ]
  },
  {
   "cell_type": "code",
   "execution_count": null,
   "metadata": {},
   "outputs": [],
   "source": []
  },
  {
   "cell_type": "markdown",
   "metadata": {},
   "source": [
    "## 2D Data: Rendering a Grayscale Image\n",
    "Back to <a href = '#navigation'>Navigation</a>\n",
    "\n",
    "* Data structure\n",
    "  * 2-dimensional array (matrix)\n",
    "  * Represented with a Python list of lists\n",
    "* Operations\n",
    "  * Creating data (2D list) with list comprehension\n",
    "  * Reshaping a 2D list of lists into a 1D list\n",
    "* Analysis\n",
    "  * Plotting data with <font face='courier'>matplotlib</font>\n",
    "\n",
    "Let's look at some basics of rendering images in two dimensions before we move on to 3D data.\n",
    "\n",
    "Rather than input data from a file, we'll quickly create some data with code for this example of how to render a grayscale immage.  We will use <font face='courier'>matplotlib</font> to render the image by 'plotting' each pixel.  Grayscale pixels are coded with integers from 0 to 255, where 0 is black and 255 is white.  You can interpret these values as brightness or whiteness.  We will create an $8 \\times 8$ checkerboard of pixels whose codes alternate between 0 and 255.\n",
    "\n",
    "The <font face='courier'>plt.imshow()</font> function of <font face='courier'>matplotlib</font>, in conjunction with the <font face='courier'>cmap='gray'</font> argument, normalizes the data by assigning the color black to the minimum value in the array and white to the maximum value.  Intermediate values are assigned gray tones of darkness proportionate to their value.  The optional <font face='courier'>vmin</font> and  <font face='courier'>vmax</font> arguments may be used to establish values for black and white, respectively, in case those values are not contained in the data."
   ]
  },
  {
   "cell_type": "code",
   "execution_count": null,
   "metadata": {},
   "outputs": [],
   "source": [
    "import matplotlib.pyplot as plt\n",
    "dim = 8    # dimension of th eplot\n",
    "\n",
    "checker = [[0 if (i+j)%2 else 255 for i in range(dim)] for j in range(dim)]\n",
    "print(checker)\n",
    "\n",
    "plt.imshow(checker, cmap='gray', vmin = 0, vmax = 255)\n",
    "plt.show()"
   ]
  },
  {
   "cell_type": "markdown",
   "metadata": {},
   "source": [
    "Different analyses require the data to be in different shapes.  An $8 \\times 8$ lists of lists was required by <font face='courier'>matplotlib</font> for the plot above.  The two-dimensional plot is appropriate inpute for some neural networks but, if this pattern were to be analyzed by other neural network architectures, it would need to be in a one-dimensional array."
   ]
  },
  {
   "cell_type": "code",
   "execution_count": null,
   "metadata": {},
   "outputs": [],
   "source": [
    "[checker[i][j] for i in range(len(checker)) for j in range(len(checker[i]))]"
   ]
  },
  {
   "cell_type": "markdown",
   "metadata": {},
   "source": [
    "## 3D Data: Image Processing\n",
    "Back to <a href = '#navigation'>Navigation</a>\n",
    "\n",
    "We view images in 2 dimensions.  Color images, however, require 3-dimensional data because the color of each pixel is a mixture of Red, Green, and Blue (RGB) hue intensities.\n",
    "\n",
    "The image below shows the data structure of a color image that is $3 \\times 3$ pixels.  The data required for rendering pixel $[0][0]$, for example, requires the three data elements noted in the figure.\n",
    "\n",
    "![RGB Data Structure](images/RGB1Image.jpg 'Data Structure for RGB Image')"
   ]
  },
  {
   "cell_type": "markdown",
   "metadata": {},
   "source": [
    "## Read & Display Color (RGB) 3D Image Data\n",
    "Back to <a href = '#navigation'>Navigation</a>\n",
    "\n",
    "* Data structure\n",
    "  * 3-dimensional array (tensor)\n",
    "  * Represented with a Python list of of lists of lists\n",
    "* Operations\n",
    "  * Reading 3D data from a file\n",
    "* Analysis\n",
    "  * Rendering the data with <font face='courier'>matplotlib</font>\n",
    "\n",
    "<font face='courier'>image.txt</font> contains RGB data for an image that is 374 pixels wide by 288 pixels high.  Each pixel is encoded in RGB by three integers from 0 to 255 each of which indicates the hue intensity of red, green, and blue, respectively.  (Larger values indicate greater hue intensity.)  The data file is structured with the data for each pixel on a separate line with the three values separated by commas.  Don't forget that each line in a text file ends with the 'hidden' character '\\n'.  The data needs to be structured in the three-dimensional format as indicated in the previous figure.\n",
    "\n",
    "Read that data, putting it into a $374 \\times 288$ image with each pixel coded with a 3-element RGB code."
   ]
  },
  {
   "cell_type": "code",
   "execution_count": null,
   "metadata": {},
   "outputs": [],
   "source": [
    "import matplotlib.pyplot as plt\n",
    "\n",
    "f = open('image.txt','r')\n",
    "dimHorizontal = 374\n",
    "dimVertical = 288\n",
    "image = []\n",
    "\n",
    "for i in range(dimVertical):\n",
    "    newRow = []\n",
    "    for j in range(dimHorizontal):\n",
    "        pixel = f.readline()\n",
    "        pixel = pixel.strip()\n",
    "        pixel = pixel.split(',')\n",
    "        for k in range(len(pixel)):\n",
    "            pixel[k] = int(pixel[k])\n",
    "        newRow.append(pixel)\n",
    "    image.append(newRow)\n",
    "\n",
    "f.close()\n",
    "\n",
    "print('Height:',len(image),'  Width:', len(image[0]), '  Number of RGB elements:',len(image[0][0]), \\\n",
    "      '  Sample pixel RGB:', image[0][0])\n",
    "plt.imshow(image)\n",
    "plt.show()"
   ]
  },
  {
   "cell_type": "code",
   "execution_count": null,
   "metadata": {
    "scrolled": true
   },
   "outputs": [],
   "source": [
    "print(image)"
   ]
  },
  {
   "cell_type": "markdown",
   "metadata": {},
   "source": [
    "Construct the image using list comprehension"
   ]
  },
  {
   "cell_type": "code",
   "execution_count": null,
   "metadata": {},
   "outputs": [],
   "source": [
    "import matplotlib.pyplot as plt\n",
    "\n",
    "\"\"\" Open the file \"\"\"\n",
    "f = open('image.txt','r')\n",
    "data = f.readlines()\n",
    "f.close()\n",
    "for i in range(len(data)):\n",
    "    data[i] = data[i].strip().split(',')\n",
    "\n",
    "dimHorizontal = 374\n",
    "dimVertical = 288\n",
    "\n",
    "\"\"\" Process the data \"\"\"\n",
    "plt.imshow([[[int(p) for p in data[i*dimHorizontal + j]] for j in range(dimHorizontal)] for i in range(dimVertical)])\n",
    "plt.show()"
   ]
  },
  {
   "cell_type": "markdown",
   "metadata": {},
   "source": [
    "An alternative, that is a little more advanced.  Use it if you understand it; don't worry if you don't understand it right now.\n",
    "\n",
    "The main idea and difference from the code above is that the string operation are executed in the list comprehension and the <font face='courier'>map</font> function is used to convert all three pixels in each row from string to integer quantitities."
   ]
  },
  {
   "cell_type": "code",
   "execution_count": null,
   "metadata": {},
   "outputs": [],
   "source": [
    "import matplotlib.pyplot as plt\n",
    "\n",
    "\"\"\" Open the file \"\"\"\n",
    "f = open('image.txt','r')\n",
    "data = f.readlines()\n",
    "f.close()\n",
    "\n",
    "dimHorizontal = 374\n",
    "dimVertical = 288\n",
    "\n",
    "\"\"\" Process the data \"\"\"\n",
    "plt.imshow([[list(map(int, data[i*dimHorizontal + j].strip().split(','))) for j in range(dimHorizontal)] for i in range(dimVertical)])\n",
    "plt.show()"
   ]
  },
  {
   "cell_type": "markdown",
   "metadata": {},
   "source": [
    "## Repeat Data Acquisition with List Comprehension\n"
   ]
  },
  {
   "cell_type": "code",
   "execution_count": null,
   "metadata": {},
   "outputs": [],
   "source": [
    "f = open('image.txt','r')\n",
    "data = [[int(x) for x in f.readline().strip().split(',')] for i in range(dimHorizontal * dimVertical)]\n",
    "plt.imshow([[[int(p) for p in data[i*dimHorizontal + j]] for j in range(dimHorizontal)] for i in range(dimVertical)])\n",
    "plt.show()\n",
    "f.close()"
   ]
  },
  {
   "cell_type": "markdown",
   "metadata": {},
   "source": [
    "## Exercise: Display just the Dog's Head \n",
    "\n",
    "If you have executed the code above, then you have a list of lists already populated named iamge from which you can display the required data for displaying the dog's head."
   ]
  },
  {
   "cell_type": "code",
   "execution_count": null,
   "metadata": {},
   "outputs": [],
   "source": [
    "newImage = []\n",
    "heightBottom = 30\n",
    "heightTop = 150\n",
    "widthLeft = 225\n",
    "widthRight = 325\n",
    "\n",
    "for i in range(heightBottom,heightTop):\n",
    "    newRow = []\n",
    "    for j in range(widthLeft,widthRight):\n",
    "        newRow.append(image[i][j])\n",
    "    newImage.append(newRow)\n",
    "\n",
    "plt.imshow(newImage)\n",
    "plt.show()"
   ]
  },
  {
   "cell_type": "markdown",
   "metadata": {},
   "source": [
    "## Repeat Using List Comprehension"
   ]
  },
  {
   "cell_type": "code",
   "execution_count": null,
   "metadata": {},
   "outputs": [],
   "source": []
  },
  {
   "cell_type": "markdown",
   "metadata": {},
   "source": [
    "Alter a grayscale MNIST image so that it can rendered as a color image.  <font face='courier'>mnistEg.txt</font> is a file with 28 rows, with each row containing 28 integers  each of which is in the interval $[ 0 , 255]$.  We used <font face='courier'>cmap='gray'</font> to indicate a grayscale image when plotting.  This time, that argument is not needed because we will be rendering in color, which is the default.\n",
    "\n",
    "Hints: Gray scale colors have equal proportions red, green, and blue (RGB) hues, as in these examples:    \n",
    "  - Black: (R,G,B) = (0,0,0)\n",
    "  - White: (R,G,B) = (255,255,255)\n",
    "  - Medium Gray: (R,G,B) = (128,128,128)\n",
    "  - Dark Gray: (R,G,B) = (80,80,80)\n",
    "\n",
    "\n",
    "to create the 'negative' image using the formula 255 - <font face='courier'>p</font>, where <font face='courier'>p</font> is a pixel value in $[ 0 , 255]$.\n",
    "\n"
   ]
  },
  {
   "cell_type": "code",
   "execution_count": null,
   "metadata": {},
   "outputs": [],
   "source": [
    "%matplotlib inline\n",
    "import matplotlib.pyplot as plt \n",
    "f = open('mnistEg.txt', 'r')\n",
    "rgb = f.readlines()\n",
    "f.close()\n",
    "for i in range(len(rgb)):\n",
    "    rgb[i] = rgb[i].strip().split(',')                # strip and split string input data\n",
    "    for j in range(len(rgb[i])):\n",
    "        rgb[i][j] = int(rgb[i][j])                    # convert data from string to integer\n",
    "        rgb[i][j] = (rgb[i][j], rgb[i][j], rgb[i][j]) # change single pixel integers to 3-tuples\n",
    "\n",
    "plt.imshow(rgb)\n",
    "plt.show()"
   ]
  },
  {
   "cell_type": "markdown",
   "metadata": {},
   "source": [
    "## Creating Dictionaries from Text Files\n",
    "Back to <a href = '#navigation'>Navigation</a>\n",
    "\n",
    "Dictionaries provide for fast lookup of values based on (unique) assigned to each value.  In mathematical terms, dictionaries provide a _mapping_ of keys to values."
   ]
  },
  {
   "cell_type": "markdown",
   "metadata": {},
   "source": [
    "### An easy example\n",
    "\n",
    "* Data structure\n",
    "  * Dictionary with key-value structure\n",
    "* Operations\n",
    "  * Reading data from a file\n",
    "      * <font face = 'courier'>for</font> loop\n",
    "      * list comprehension\n",
    "* Analysis\n",
    "  * None\n",
    "\n",
    "Each line of the file <font face = 'courier'>npNameLoc.txt</font> contains the name of a United States National Park and the state in which that park is located.  Read the file and create a dictionary where the key is the name of the park and the value is a string indicating the state in which the park is located."
   ]
  },
  {
   "cell_type": "code",
   "execution_count": null,
   "metadata": {
    "scrolled": true
   },
   "outputs": [],
   "source": [
    "\"\"\" Read the data \"\"\"\n",
    "f_in = open('npNameLoc.txt','r')\n",
    "data = f_in.readlines()\n",
    "f_in.close()\n",
    "\n",
    "\"\"\" Create the dictionary \"\"\"\n",
    "natParkDict1 = {}\n",
    "for i in range(len(data)):\n",
    "    data[i] = data[i].strip()\n",
    "    data[i] = data[i].split(',')\n",
    "    natParkDict1[data[i][0]] = data[i][1]\n",
    "natParkDict1"
   ]
  },
  {
   "cell_type": "markdown",
   "metadata": {
    "collapsed": true
   },
   "source": [
    "### Complete the task above with dictionary comprehension"
   ]
  },
  {
   "cell_type": "code",
   "execution_count": null,
   "metadata": {},
   "outputs": [],
   "source": [
    "\"\"\" Read the data \"\"\"\n",
    "f_in = open('npNameLoc.txt','r')\n",
    "data = f_in.readlines()\n",
    "f_in.close()\n",
    "\n",
    "\"\"\" Create the dictionary \"\"\"\n",
    "for i in range(len(data)):\n",
    "    data[i] = data[i].strip().split(',')\n",
    "natParkDict1 = {data[i][0]:data[i][1] for i in range(len(data)) if i}\n",
    "natParkDict1"
   ]
  },
  {
   "cell_type": "code",
   "execution_count": null,
   "metadata": {},
   "outputs": [],
   "source": [
    "\"\"\" Read the data \"\"\"\n",
    "f_in = open('npNameLoc.txt','r')\n",
    "data = f_in.readlines()\n",
    "f_in.close()\n",
    "\n",
    "\"\"\" Create the dictionary \"\"\"\n",
    "#for i in range(len(data)):\n",
    "#    data[i] = data[i].strip().split(',')\n",
    "natParkDict1 = {x[0]:x[1] for x in data[i].strip().split(',') for i in range(1,len(data))}\n",
    "natParkDict1"
   ]
  },
  {
   "cell_type": "code",
   "execution_count": null,
   "metadata": {},
   "outputs": [],
   "source": [
    "\"\"\" Read the data \"\"\"\n",
    "f_in = open('npNameLoc.txt','r')\n",
    "data = f_in.readlines()\n",
    "f_in.close()\n",
    "\n",
    "\"\"\" Create the dictionary \"\"\"\n",
    "#for i in range(len(data)):\n",
    "#    data[i] = data[i].strip().split(',')\n",
    "{y[0]:y[1] for y in [[x for x in data[i].strip().split(',')] for i in range(1,len(data))]}"
   ]
  },
  {
   "cell_type": "markdown",
   "metadata": {
    "collapsed": true
   },
   "source": [
    "### A more difficult example: Electrical Grid Networks\n",
    "\n",
    "* Data structure\n",
    "  * Dictionary with key-value structure\n",
    "  * Keys are tuples\n",
    "  * Values are floating-point values\n",
    "* Operations\n",
    "  * Reading data from a file\n",
    "      * <font face = 'courier'>for</font> loop\n",
    "      * Alternately, list comprehension could be used\n",
    "* Analysis\n",
    "  * Cluster analysis\n",
    "\n",
    "_Small World Networks_ have been a popular topic in recent years, both in academic research as well as in popular magazines.  The idea that all humans are separated by no more than _six degrees of separation_ is intrguiing ([Wikipedia Link](https://en.wikipedia.org/wiki/Six_degrees_of_separation) and you may have heard about how all movie stars are connected via the movies they've played in with no more than six connections from the actor Kevin Bacon: ([The Oracle of Kevin Bacon](https://oracleofbacon.org/).  Studies of other networks such as electrical grids reveal small-world networks that are highly connected.  One famous paper on this topic is by Duncan Watts and Steven Strogatz [Watts & Strogatz](http://worrydream.com/refs/Watts-CollectiveDynamicsOfSmallWorldNetworks.pdf).\n",
    "\n",
    "Suppose we are analyzing an electricity distribution network and we are concerned with the connectedness of the network and, in particular, with identifying clusters of highly-connected clusters that are connected relatively sparsely with the remainder of the network.  The sparse connections ebtween highly-connected clusters identify the vulnerable parts of the network that could cause widespread electricity outages, as illustrated below.  See [Related GE Grid Story](https://www.ge.com/reports/post/74545123735/its-a-small-world-ge-google-maps-to-draw-a/), [Related Academic Article](https://ieeexplore.ieee.org/stamp/stamp.jsp?arnumber=5448813), and [Another Academic Article](https://ieeexplore.ieee.org/abstract/document/4116107).  We are also concerned with the miles of cable that have been used for connectiong the junctions of the network.\n",
    "\n",
    "![Vulnerable Network](images\\network.jpg)\n",
    "\n",
    "We will input data into a dictionary for this analysis.  The dictionary keys will be the location IDs, as a tuple with elements indicating the location IDs that are connected, and the values will be the miles of cable connecting the two points.  The data is in the file <font face='courier'>network.txt</font> and each line has three values, in this order:\n",
    "\n",
    "Location 1 ID, Location 2 ID, miles of cable\n",
    "\n",
    "Notice that if two locations are connected than the ordering of the location IDs is arbitrary and there is only one row reflecting that connection.  In other words, there is only one row of data per connection and we will not find a stat row '1,2,50' if another row with '2,1,50' is in the data file.\n",
    "\n",
    "#### 1st Task: Create a Dictionary\n",
    "Open the data file named <font face='courier'>network.csv</font>, which documents the connections between the 101 points in the network, and create a dictionary named <font face='courier'>network</font> with these keys and values:\n",
    "- The key is a tuple with the integers representing the IDs of two point being conencted with a cable\n",
    "- The value is the distance between those points\n",
    "\n",
    "#### 2nd Task: Identify a Cluster\n",
    "Take the arbitrary point ID = 0 and determine all the points that have a connection with that point, either directly or through another point or points.  Print (1) the number of connected points and (2) the IDs of those points.  We will use the <font face='courier'>set</font> data type to solve this problem."
   ]
  },
  {
   "cell_type": "code",
   "execution_count": null,
   "metadata": {},
   "outputs": [],
   "source": [
    "network = {}\n",
    "\n",
    "f_in = open('network.csv','r')\n",
    "data = f_in.readlines()\n",
    "for i in range(len(data)):\n",
    "    data[i] = data[i].strip()\n",
    "    data[i] = data[i].split(',')\n",
    "    network[(int(data[i][0]),int(data[i][1]))] = float(data[i][2])\n",
    "network"
   ]
  },
  {
   "cell_type": "code",
   "execution_count": null,
   "metadata": {},
   "outputs": [],
   "source": [
    "clustIDs = {0}\n",
    "clustCount = len(clustIDs)\n",
    "\n",
    "# Iterate through the locations to find other connected locations until no further locations are found\n",
    "while True:\n",
    "    for k in network.keys():\n",
    "        if k[0] in clustIDs or k[1] in clustIDs:\n",
    "            clustIDs.add(k[0])\n",
    "            clustIDs.add(k[1])\n",
    "    newclustCount = len(clustIDs)\n",
    "    if newclustCount == clustCount:\n",
    "        break\n",
    "    else:\n",
    "        clustCount = newclustCount\n",
    "    \n",
    "print('Number of points in the connected cluster:',clustCount)\n",
    "print('Connected cluster points membership:',clustIDs)"
   ]
  },
  {
   "cell_type": "markdown",
   "metadata": {},
   "source": [
    "# Afterward\n",
    "Back to <a href = '#navigation'>Navigation</a>\n",
    "\n",
    "This notebook has provided exercises in these critical Python skills:\n",
    "\n",
    "- Iterating through data with <font face='courier'>for</font> loops\n",
    "- Experience with, and examples of where comprehending the multi-dimensionality of data is important\n",
    "- Examples requiring data in different numbers of dimensions\n",
    "\n",
    "Expertise with <font face='courier'>for</font> loops is always needed in Python, regardless of the level of expertise one attains.  Packages such as <font face='courier'>pandas</font> and <font face='courier'>numpy</font> make reshaping data structures and reading data from files easier, but a programmer will not be successful, even with these tools, if they cannot visualize data structures in multiple dimensions.  Manually iterating through data of multiple dimensions as we have done helps to build that intuition.  Even with easy-to-use reshaping functions in <font face='courier'>pandas</font> and <font face='courier'>numpy</font>, expertise with <font face='courier'>for</font> loops is still frequently required for purposes other than reading and initializing data structures."
   ]
  },
  {
   "cell_type": "code",
   "execution_count": null,
   "metadata": {},
   "outputs": [],
   "source": []
  },
  {
   "cell_type": "code",
   "execution_count": null,
   "metadata": {},
   "outputs": [],
   "source": []
  },
  {
   "cell_type": "markdown",
   "metadata": {},
   "source": [
    "# Review of <font face='courier'>for</font> Loops\n",
    "Back to <a href = '#navigation'>Navigation</a>\n",
    "\n",
    "<font face='courier'>for</font> loops can be used to access the elements of _iterable_ data types, which includes:\n",
    "\n",
    "- lists\n",
    "- tuples\n",
    "- dictionaries\n",
    "\n",
    "Elements can sometimes be revised of the data type is mutable.  Lists can be freely changed, tuples cannot be changed, while dictionary values can be changed although dictionary keys cannot.  This section reviews the basics of _iterating_ through lists and dictionaries."
   ]
  },
  {
   "cell_type": "markdown",
   "metadata": {},
   "source": [
    "## Looping through Lists <a name='loops' />\n",
    "Back to <a href = '#navigation'>Navigation</a>\n",
    "\n",
    "You can access all the elements within a list using a _for_ loop.  This approach is generally called _iterating through a list_.  Lists are just one of the data types that you can iterate through: we call the collection of all such data types <font face='courier'>iterables</font>. For loops are perfect for accessing all the elements in a list because the <font face='courier'>len()</font> function cand be used to determine how many times the loop must be executed.  \n",
    "\n",
    "There are two ways to iterate through data and objects with for loop, which are illustrated below:\n",
    "- by index\n",
    "- directly by referencing the items being iterated\n",
    "\n",
    "Within a loop, we can access the value of a list element and use it in a computation or assign a new value to it."
   ]
  },
  {
   "cell_type": "code",
   "execution_count": null,
   "metadata": {},
   "outputs": [],
   "source": [
    "myList = [65,89,21,34,72,38,50,68,17]"
   ]
  },
  {
   "cell_type": "markdown",
   "metadata": {},
   "source": [
    "We can loop through a list and access each element by using a dummy variable <font face='courier'>ele</font> (short for element), which is assigned a copy of the value of each element.  For starters, we will jsut print each element."
   ]
  },
  {
   "cell_type": "code",
   "execution_count": null,
   "metadata": {},
   "outputs": [],
   "source": [
    "for ele in myList:\n",
    "    print(ele)"
   ]
  },
  {
   "cell_type": "markdown",
   "metadata": {},
   "source": [
    "Alternatively, we can print each element by constructing a range of indices that corresponds with the length of the list, and use those indices to access the data elements."
   ]
  },
  {
   "cell_type": "code",
   "execution_count": null,
   "metadata": {},
   "outputs": [],
   "source": [
    "for i in range(len(myList)):\n",
    "    print(myList[i])"
   ]
  },
  {
   "cell_type": "markdown",
   "metadata": {},
   "source": [
    "So far, we have just accessed the value as if we were printing them or using them in a computation.  What if we wanted to change some values in the list.  Here is one approach.  Does it work?"
   ]
  },
  {
   "cell_type": "code",
   "execution_count": null,
   "metadata": {},
   "outputs": [],
   "source": [
    "for i in range(len(myList)):\n",
    "    if myList[i] > 60:\n",
    "        myList[i] = 'new value'\n",
    "print(myList)"
   ]
  },
  {
   "cell_type": "markdown",
   "metadata": {},
   "source": [
    "Now, let's use the first approach we demonstrated."
   ]
  },
  {
   "cell_type": "code",
   "execution_count": null,
   "metadata": {},
   "outputs": [],
   "source": [
    "myList = [65,89,21,34,72,38,50,68,17]\n",
    "for ele in myList:\n",
    "    if ele > 60:\n",
    "        ele = 'new value'\n",
    "print(myList)"
   ]
  },
  {
   "cell_type": "markdown",
   "metadata": {},
   "source": [
    "Let's discuss what is going on.  You cannot, obviously, use the approach in the cell above to change values in a list."
   ]
  },
  {
   "cell_type": "markdown",
   "metadata": {},
   "source": [
    "## List Comprehension Basics <a name='ListComprehension' />\n",
    "Back to <a href = '#navigation'>Navigation</a>\n",
    "\n",
    "List comprehension is a technique that can be though of condensing the number of statements required to create a new list using for loops.  List comprehension creates more succinct programs and also has speed and memory usage benefits.  The first cell below is a typical way we might create a new list of random numbers from scratch."
   ]
  },
  {
   "cell_type": "code",
   "execution_count": null,
   "metadata": {},
   "outputs": [],
   "source": [
    "import random\n",
    "numElements = 10\n",
    "newList = []\n",
    "\n",
    "for i in range(numElements):\n",
    "    newList.append(random.random())\n",
    "newList"
   ]
  },
  {
   "cell_type": "markdown",
   "metadata": {},
   "source": [
    "The method for compacting a for loop into a list comprehension state is illustrated below.\n",
    "\n",
    "![List Comprehension Structure](images/listComprehension1.jpg)\n",
    "![List Comprehension Example](images/listComprehension.jpg)"
   ]
  },
  {
   "cell_type": "code",
   "execution_count": null,
   "metadata": {},
   "outputs": [],
   "source": [
    "import random\n",
    "numElements = 10\n",
    "\n",
    "newList1 = [random.random() for i in range(numElements)]\n",
    "newList1"
   ]
  },
  {
   "cell_type": "markdown",
   "metadata": {},
   "source": [
    "Logic operations can be used within list comprehension statements to filter the elements appended to the list.\n",
    "\n",
    "\n",
    "![List Comprehension Structure w/Logic](images/listComprehension2.jpg)\n",
    "\n",
    "For example, we could use the following code if we wanted to create a list of even numbers through 20."
   ]
  },
  {
   "cell_type": "code",
   "execution_count": null,
   "metadata": {},
   "outputs": [],
   "source": [
    "newList2 = [i for i in range(21) if i%2 == 0]\n",
    "newList2"
   ]
  },
  {
   "cell_type": "markdown",
   "metadata": {},
   "source": [
    "Compound Boolean logic filtering statements can be used as well."
   ]
  },
  {
   "cell_type": "code",
   "execution_count": null,
   "metadata": {},
   "outputs": [],
   "source": [
    "newList3 = [i for i in range(21) if i%2 == 0 and i>7]\n",
    "newList3"
   ]
  },
  {
   "cell_type": "markdown",
   "metadata": {},
   "source": [
    "Multiple for statements can be used to create a single-level list or a multi-level list, as shown below in that order."
   ]
  },
  {
   "cell_type": "code",
   "execution_count": null,
   "metadata": {},
   "outputs": [],
   "source": [
    "with  open('image.txt', 'r') as f:\n",
    "    data = f.readlines()\n",
    "    for i in range(len(data)):\n",
    "        data[i] = data[i].strip().split(',')\n",
    "\n",
    "newList4 = [int(data[i][j]) for j in range(len(data[i])) for i in range(len(data))]\n",
    "newList4"
   ]
  },
  {
   "cell_type": "code",
   "execution_count": null,
   "metadata": {},
   "outputs": [],
   "source": [
    "with  open('image.txt', 'r') as f:\n",
    "    data = f.readlines()\n",
    "    for i in range(len(data)):\n",
    "        data[i] = data[i].strip().split(',')\n",
    "\n",
    "newList5 = [[int(data[i][j]) for j in range(len(data[i]))] for i in range(len(data))]\n",
    "newList5"
   ]
  },
  {
   "cell_type": "code",
   "execution_count": null,
   "metadata": {},
   "outputs": [],
   "source": []
  },
  {
   "cell_type": "markdown",
   "metadata": {},
   "source": [
    "## Dictionaries <a name = \"dictionaries\" />\n",
    "Back to <a href = '#navigation'>Navigation</a>\n",
    "\n",
    "Dictionaries:\n",
    "- Are indicated by curly braces each of its elements, which are separated by commas, have two components separated by a colon\n",
    "- Dictionary element _keys_ are indicated before the colon\n",
    "- Dictionary element _values_ are indicated after the colon\n",
    "- Each key is unique: only one dictionary may have any particular key\n",
    "- We often think of a dictionary key as a way to look up a dictionary value\n",
    "\n",
    "You can simply use a key to look up a dictionary value or change the value."
   ]
  },
  {
   "cell_type": "code",
   "execution_count": null,
   "metadata": {},
   "outputs": [],
   "source": [
    "# Example dictionary\n",
    "myDiction = {0:'cero', 1:'uno', 2:'sod', 3:'tres'}"
   ]
  },
  {
   "cell_type": "code",
   "execution_count": null,
   "metadata": {},
   "outputs": [],
   "source": [
    "print(myDiction[2])"
   ]
  },
  {
   "cell_type": "code",
   "execution_count": null,
   "metadata": {},
   "outputs": [],
   "source": [
    "myDiction[2] = 'dos'\n",
    "print(myDiction)"
   ]
  },
  {
   "cell_type": "markdown",
   "metadata": {},
   "source": [
    "## Looping through Dictionaries <a name='LoopThroughDict' />\n",
    "Back to <a href = '#navigation'>Navigation</a>\n",
    "\n",
    "We can use loops to access all the elements in a dictionary.  Dictionaries are usual _iterated_ through by key, which means that we access all of the uniques in one manner or another.  Two of the ways are illustrated below, the first of which shows that when we simply put the dictionary name in a for statement, we iterate through teh keys by default.  We can also explicitly use the <font face = 'courier'>.keys()</font> property of dictionaries to remind ourselves that we are iterating through the keys: this is the second approach below."
   ]
  },
  {
   "cell_type": "code",
   "execution_count": null,
   "metadata": {},
   "outputs": [],
   "source": [
    "for key in myDiction:\n",
    "    print(key, myDiction[key])"
   ]
  },
  {
   "cell_type": "code",
   "execution_count": null,
   "metadata": {},
   "outputs": [],
   "source": [
    "for k in myDiction.keys():\n",
    "    print(k, myDiction[k])"
   ]
  },
  {
   "cell_type": "markdown",
   "metadata": {},
   "source": [
    "A frequently-used method of looping explicitly through both the keys and values in a dictionary is as follows using the <font face = 'courier'>.items()</font> method of dictionaries.  When two dummy variables are used in the for statement each key and value pair are _unpacked_ into the two variables."
   ]
  },
  {
   "cell_type": "code",
   "execution_count": null,
   "metadata": {},
   "outputs": [],
   "source": [
    "for key,value in myDiction.items():\n",
    "    print(key,value)"
   ]
  },
  {
   "cell_type": "markdown",
   "metadata": {},
   "source": [
    "Or, you can use this more succinct code.  As you get more experience it will be obvious that you are dealing with a dictionary and <font face='courier'>k</font> is the key and <font face='courier'>v</font> is the value."
   ]
  },
  {
   "cell_type": "code",
   "execution_count": null,
   "metadata": {},
   "outputs": [],
   "source": [
    "for k,v in myDiction.items():\n",
    "    print(k,v)"
   ]
  },
  {
   "cell_type": "markdown",
   "metadata": {},
   "source": [
    "## Dictionary Comprehension Basics <a name='DictComp' />\n",
    "Back to <a href = '#navigation'>Navigation</a>\n",
    "\n",
    "Dictionaries can be created with _dictionary comprehension_  just as lists can be generated with _list comprehension_.  The differences between list comprehension and dictioanry comprehension are that the latter uses curly braces rather than square brackets and the specification for what is appended to the dictionary requires both a key and a value, separated by a colon. One of many prototypical forms of dictionary comprehension is this:\n",
    "\n",
    "<font face='courier'>newDictionary = {k:v for k,v in some_iterator}</font>\n",
    "\n",
    "Dictionary comprehension is useful when filestreams are read, which need to be put into dictionaries, or if, for example, lists need to be converted to dictionaries.  For these demonstration, let's assume that we have a list of lists, where each sublist contains the name of a national parks and its acreage.  Let's construct a dictionary from this list of lists with the national park name as the key and the acreage as the value.\n",
    "\n",
    "The first cells show multiple ways to use for loops for thsi task and the corresponding methods with dictionary comprehension.\n",
    "\n",
    "Source: National Parks data was extracted from [Wikipedia National Parks page](https://en.wikipedia.org/wiki/List_of_national_parks_of_the_United_States)."
   ]
  },
  {
   "cell_type": "code",
   "execution_count": null,
   "metadata": {},
   "outputs": [],
   "source": [
    "natParksList = [['Acadia',49075.26], ['Yellowstone',2219790.71], ['Yosemite',761747.5], ['Shenandoah',199223.77], \\\n",
    "                ['Saguro',91715.72], ['Petrified Forest',221390.21]]\n",
    "natParksList"
   ]
  },
  {
   "cell_type": "markdown",
   "metadata": {},
   "source": [
    "## Dictionaries from _for_ Loops\n",
    "Back to <a href = '#navigation'>Navigation</a>"
   ]
  },
  {
   "cell_type": "code",
   "execution_count": null,
   "metadata": {},
   "outputs": [],
   "source": [
    "natParksDict1 = {}\n",
    "for i in range(len(natParksList)):\n",
    "    natParksDict1[natParksList[i][0]] = natParksList[i][1]\n",
    "natParksDict1"
   ]
  },
  {
   "cell_type": "code",
   "execution_count": null,
   "metadata": {},
   "outputs": [],
   "source": [
    "natParksDict2 = {}\n",
    "for x in natParksList:\n",
    "    natParksDict2[x[0]] = x[1]\n",
    "natParksDict2"
   ]
  },
  {
   "cell_type": "code",
   "execution_count": null,
   "metadata": {},
   "outputs": [],
   "source": [
    "natParksDict3 = {}\n",
    "for name,acreage in natParksList:\n",
    "    natParksDict3[name] = acreage\n",
    "natParksDict3"
   ]
  },
  {
   "cell_type": "markdown",
   "metadata": {},
   "source": [
    "## Dictionaries with Dictionary Comprehension\n",
    "Back to <a href = '#navigation'>Navigation</a>\n",
    "\n",
    "The logic of unpacking a for loop and inserting the contents into a dictionary comprehension statement is the same as with list comprehension, except for tweaks that are appropriate for dictionaries: curly braces and specifying a key and a value to insert in each implicit iteration.\n",
    "\n",
    "![Dictionary Comprehension Template](images/dictComp.jpg)"
   ]
  },
  {
   "cell_type": "code",
   "execution_count": null,
   "metadata": {},
   "outputs": [],
   "source": [
    "natParksDict1DC = {natParksList[i][0]:natParksList[i][1] for i in range(len(natParksList))}\n",
    "natParksDict1DC"
   ]
  },
  {
   "cell_type": "code",
   "execution_count": null,
   "metadata": {},
   "outputs": [],
   "source": [
    "natParksDict2DC = {x[0]:x[1] for x in natParksList}\n",
    "natParksDict2DC"
   ]
  },
  {
   "cell_type": "code",
   "execution_count": null,
   "metadata": {},
   "outputs": [],
   "source": [
    "natParksDict3DC = {name:acreage for name,acreage in natParksList}\n",
    "natParksDict3DC"
   ]
  },
  {
   "cell_type": "markdown",
   "metadata": {},
   "source": [
    "# Aliasing <a name = 'aliasing' />\n",
    "Back to <a href = '#navigation'>Navigation</a>\n",
    "\n",
    "Aliasing the the act of referencing the same memory location/variable using multiple names.  It happens most often unintentionally and can cause a frustrating debugging adventure.\n",
    "\n",
    "with <font face='courier'>int</font> and <font face='courier'>float</font> data types there is no chance of aliasing.  Everything works intuitively.  When we change the value of <font face='courier'>p</font> we change only its value and not the value of <font face='courier'>q</font>.  The converse is true when we change the value of <font face='courier'>q</font>."
   ]
  },
  {
   "cell_type": "code",
   "execution_count": null,
   "metadata": {},
   "outputs": [],
   "source": [
    "p = 1\n",
    "q = p\n",
    "p = 2\n",
    "print('p =',p,'     q =',q)"
   ]
  },
  {
   "cell_type": "markdown",
   "metadata": {},
   "source": [
    "When we assign a list to another list, however, both list names point to the same data, which is to say that they both pint to the same place in memory."
   ]
  },
  {
   "cell_type": "code",
   "execution_count": null,
   "metadata": {},
   "outputs": [],
   "source": [
    "x = [1,2]\n",
    "y = x\n",
    "y[0] = 99\n",
    "print('x =',x,'     y =',y)"
   ]
  },
  {
   "cell_type": "markdown",
   "metadata": {},
   "source": [
    "We often need to create a list, or list of lists, to receive our computations, such as when we are computing the tranpose of a lsit of lists.  Using the apprach above would create aliasing and we would either end up with a matrix with the wrong values, or we would corrupt the original matrix, or both.\n",
    "\n",
    "One safe way to create a list of lists of the same dimension as an existing list of lists, use the approach in the cell below."
   ]
  },
  {
   "cell_type": "code",
   "execution_count": null,
   "metadata": {},
   "outputs": [],
   "source": [
    "X = [[0,1,2],[3,4,5],[6,7,8]]  # original list of lists\n",
    "Y = [[0 for i in range(len(X[0]))] for j in range(len(X))] # list of lists to receive the transpose\n",
    "print('Y  =',Y,'\\n')\n",
    "Y[0][0] = 99\n",
    "print('Y =',Y,'\\n')\n",
    "print('X =',X,'\\n')"
   ]
  },
  {
   "cell_type": "markdown",
   "metadata": {},
   "source": [
    "You may also import the <font face='courier'>copy</font> package and use the <font face='courier'>copy.deepcopy()</font> method (see [<font face='courier'>list.copy() function</font>](https://docs.python.org/3.6/library/copy.html)) but I prefer the approach above."
   ]
  },
  {
   "cell_type": "markdown",
   "metadata": {},
   "source": [
    "I have had issues with aliasing with the methods below, so <font color='red'><b>DO NOT USE THE METHODS BELOW</b></font>."
   ]
  },
  {
   "cell_type": "code",
   "execution_count": null,
   "metadata": {},
   "outputs": [],
   "source": [
    "X = [[0,1,2],[3,4,5],[6,7,8]]  # original list of lists\n",
    "Y = [[0] * len(X[0])]  * len(X)  # list of lists to receive the transpose\n",
    "print('Y  =',Y,'\\n')\n",
    "Y[0][0] = 99\n",
    "print('Y =',Y,'\\n')\n",
    "print('X =',X,'\\n')"
   ]
  },
  {
   "cell_type": "code",
   "execution_count": null,
   "metadata": {},
   "outputs": [],
   "source": [
    "X = [[0,1,2],[3,4,5],[6,7,8]]  # original list of lists\n",
    "Y = X.copy()  # list of lists to receive the transpose\n",
    "print('Y  =',Y,'\\n')\n",
    "Y[0][0] = 99\n",
    "print('Y =',Y,'\\n')\n",
    "print('X =',X,'\\n')"
   ]
  },
  {
   "cell_type": "markdown",
   "metadata": {},
   "source": [
    "These approaches successfully create copies of list while avoiding aliasing for 1-dimensional matrices, but they create aliasing with multidimensional matrices."
   ]
  },
  {
   "cell_type": "code",
   "execution_count": null,
   "metadata": {},
   "outputs": [],
   "source": [
    "X = [[0,1,2],[3,4,5],[6,7,8]]  # original list of lists\n",
    "Y = X[:]  # list of lists to receive the transpose\n",
    "print('Y  =',Y,'\\n')\n",
    "Y[0][0] = 99\n",
    "print('Y =',Y,'\\n')\n",
    "print('X =',X,'\\n')"
   ]
  },
  {
   "cell_type": "code",
   "execution_count": null,
   "metadata": {},
   "outputs": [],
   "source": [
    "X = [[0,1,2],[3,4,5],[6,7,8]]  # original list of lists\n",
    "Y = list(X) # list of lists to receive the transpose\n",
    "print('Y  =',Y,'\\n')\n",
    "Y[0][0] = 99\n",
    "print('Y =',Y,'\\n')\n",
    "print('X =',X,'\\n')"
   ]
  },
  {
   "cell_type": "code",
   "execution_count": null,
   "metadata": {},
   "outputs": [],
   "source": []
  }
 ],
 "metadata": {
  "kernelspec": {
   "display_name": "Python 3",
   "language": "python",
   "name": "python3"
  },
  "language_info": {
   "codemirror_mode": {
    "name": "ipython",
    "version": 3
   },
   "file_extension": ".py",
   "mimetype": "text/x-python",
   "name": "python",
   "nbconvert_exporter": "python",
   "pygments_lexer": "ipython3",
   "version": "3.8.11"
  }
 },
 "nbformat": 4,
 "nbformat_minor": 2
}
